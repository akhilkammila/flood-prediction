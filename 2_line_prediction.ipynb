{
 "cells": [
  {
   "cell_type": "markdown",
   "metadata": {},
   "source": [
    "# 2 Line Prediction\n",
    "\n",
    "Predicts the average FloodProbability of other rows with the SAME mean X"
   ]
  },
  {
   "cell_type": "code",
   "execution_count": 1,
   "metadata": {},
   "outputs": [],
   "source": [
    "import pandas as pd\n",
    "DIRECTORY = './data/'\n",
    "train = pd.read_csv(DIRECTORY + 'train.csv').drop(columns='id')\n",
    "test = pd.read_csv(DIRECTORY + 'test.csv').set_index('id')"
   ]
  },
  {
   "cell_type": "code",
   "execution_count": 2,
   "metadata": {},
   "outputs": [],
   "source": [
    "meanX_to_meanP = train.groupby(train.drop(columns='FloodProbability').mean(axis=1))['FloodProbability'].mean()\n",
    "test.mean(axis=1).map(meanX_to_meanP).to_csv('submission.csv', header=['FloodProbability'])"
   ]
  }
 ],
 "metadata": {
  "kernelspec": {
   "display_name": "tradingClub",
   "language": "python",
   "name": "python3"
  },
  "language_info": {
   "codemirror_mode": {
    "name": "ipython",
    "version": 3
   },
   "file_extension": ".py",
   "mimetype": "text/x-python",
   "name": "python",
   "nbconvert_exporter": "python",
   "pygments_lexer": "ipython3",
   "version": "3.12.5"
  }
 },
 "nbformat": 4,
 "nbformat_minor": 2
}
