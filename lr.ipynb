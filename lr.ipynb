{
 "cells": [
  {
   "cell_type": "markdown",
   "metadata": {},
   "source": [
    "# Trying LR to see Correlations, T-Values, etc.\n",
    "\n",
    "Multi LR\n",
    "    - how do the t-values look?\n",
    "\n",
    "Forward/Backwards Selection (how does adding an additional var affect things)\n",
    "\n",
    "VIF (basically, is this variable explained by LR of the others --> probably low though)\n",
    "\n",
    "Spam FE"
   ]
  },
  {
   "cell_type": "code",
   "execution_count": 1,
   "metadata": {},
   "outputs": [],
   "source": [
    "import pandas as pd\n",
    "import numpy as np\n",
    "import seaborn as sns\n",
    "import matplotlib.pyplot as plt\n",
    "from tqdm import tqdm\n",
    "import statsmodels.api as sm\n",
    "from sklearn.model_selection import cross_val_score, KFold\n",
    "from sklearn.linear_model import LinearRegression\n",
    "from sklearn.metrics import mean_squared_error, r2_score, make_scorer"
   ]
  },
  {
   "cell_type": "code",
   "execution_count": 6,
   "metadata": {},
   "outputs": [],
   "source": [
    "DIRECTORY = './data/'\n",
    "train = pd.read_csv(DIRECTORY + 'train.csv').drop(columns='id')\n",
    "# train['FloodProbability'] = np.round(train['FloodProbability'] * 200 - 56, decimals=0).astype(int)\n",
    "\n",
    "def downcast_df(df):\n",
    "    for col in df.select_dtypes(include=[\"int\", \"float\"]).columns:\n",
    "        if df[col].dtype == \"int64\" or df[col].dtype == \"int32\":\n",
    "            df[col] = pd.to_numeric(df[col], downcast=\"integer\")\n",
    "        elif df[col].dtype == \"float64\" or df[col].dtype == \"float32\":\n",
    "            df[col] = pd.to_numeric(df[col], downcast=\"float\")\n",
    "    return df\n",
    "\n",
    "# Example usage\n",
    "train = downcast_df(train)"
   ]
  },
  {
   "cell_type": "code",
   "execution_count": 7,
   "metadata": {},
   "outputs": [
    {
     "data": {
      "text/plain": [
       "array([0.84590348, 0.84558981, 0.84496012, 0.84332034, 0.84493074])"
      ]
     },
     "execution_count": 7,
     "metadata": {},
     "output_type": "execute_result"
    }
   ],
   "source": [
    "model = LinearRegression()\n",
    "train = train.sample(frac=1, random_state=40).reset_index(drop=True)\n",
    "non_extreme = train[(train.drop(columns='FloodProbability') <= 12).sum(axis=1).astype(bool)]\n",
    "score = cross_val_score(model, X=non_extreme.drop(columns='FloodProbability'), y=non_extreme['FloodProbability'], cv=5, scoring=make_scorer(r2_score))\n",
    "score"
   ]
  },
  {
   "cell_type": "code",
   "execution_count": 9,
   "metadata": {},
   "outputs": [
    {
     "name": "stdout",
     "output_type": "stream",
     "text": [
      "0 0.8449467155390502\n",
      "0.8449349665035999\n",
      "1 0.8464680623071348\n",
      "0.8445527331060134\n",
      "2 0.8442302043947386\n",
      "0.845113104992887\n",
      "3 0.8448549423711544\n",
      "0.844958049403467\n",
      "4 0.8441718570497602\n",
      "0.8451283634712662\n"
     ]
    }
   ],
   "source": [
    "# Manual CV w/ statsmodels for better viz\n",
    "\n",
    "kf = KFold(n_splits=5, shuffle=True, random_state=42)\n",
    "\n",
    "for fold_idx, (train_idx, test_idx) in enumerate(kf.split(train)):\n",
    "    train_fold = train.iloc[train_idx]\n",
    "    test_fold = train.iloc[test_idx]\n",
    "    X_train, y_train = train_fold.drop(columns='FloodProbability').mean(axis=1), train_fold['FloodProbability']\n",
    "    X_test, y_test = test_fold.drop(columns='FloodProbability').mean(axis=1), test_fold['FloodProbability']\n",
    "\n",
    "    model = sm.OLS(y_train, sm.add_constant(X_train)).fit()\n",
    "    predictions = model.predict(sm.add_constant(X_test))\n",
    "\n",
    "    # TSS = np.var(y_test)\n",
    "    # RSS = np.var(y_test - predictions)\n",
    "    # score = (TSS - RSS)/TSS\n",
    "    score = r2_score(y_test, predictions)\n",
    "    print(fold_idx, score)\n",
    "    # print(model.summary())\n",
    "\n",
    "    train_predictions = model.predict(sm.add_constant(X_train))\n",
    "    train_score = r2_score(y_train, train_predictions)\n",
    "    print(train_score)\n",
    "\n",
    "    # sns.scatterplot(x=y_test, y=(predictions - y_test)**2, alpha=0.1)\n",
    "    # plt.show()\n"
   ]
  },
  {
   "cell_type": "code",
   "execution_count": 4,
   "metadata": {},
   "outputs": [
    {
     "data": {
      "text/html": [
       "<table class=\"simpletable\">\n",
       "<caption>OLS Regression Results</caption>\n",
       "<tr>\n",
       "  <th>Dep. Variable:</th>    <td>FloodProbability</td> <th>  R-squared (uncentered):</th>       <td>   0.998</td> \n",
       "</tr>\n",
       "<tr>\n",
       "  <th>Model:</th>                   <td>OLS</td>       <th>  Adj. R-squared (uncentered):</th>  <td>   0.998</td> \n",
       "</tr>\n",
       "<tr>\n",
       "  <th>Method:</th>             <td>Least Squares</td>  <th>  F-statistic:       </th>           <td>6.773e+08</td>\n",
       "</tr>\n",
       "<tr>\n",
       "  <th>Date:</th>             <td>Wed, 05 Feb 2025</td> <th>  Prob (F-statistic):</th>            <td>  0.00</td>  \n",
       "</tr>\n",
       "<tr>\n",
       "  <th>Time:</th>                 <td>13:45:40</td>     <th>  Log-Likelihood:    </th>          <td>2.7550e+06</td>\n",
       "</tr>\n",
       "<tr>\n",
       "  <th>No. Observations:</th>      <td>1117957</td>     <th>  AIC:               </th>          <td>-5.510e+06</td>\n",
       "</tr>\n",
       "<tr>\n",
       "  <th>Df Residuals:</th>          <td>1117956</td>     <th>  BIC:               </th>          <td>-5.510e+06</td>\n",
       "</tr>\n",
       "<tr>\n",
       "  <th>Df Model:</th>              <td>     1</td>      <th>                     </th>               <td> </td>    \n",
       "</tr>\n",
       "<tr>\n",
       "  <th>Covariance Type:</th>      <td>nonrobust</td>    <th>                     </th>               <td> </td>    \n",
       "</tr>\n",
       "</table>\n",
       "<table class=\"simpletable\">\n",
       "<tr>\n",
       "   <td></td>     <th>coef</th>     <th>std err</th>      <th>t</th>      <th>P>|t|</th>  <th>[0.025</th>    <th>0.975]</th>  \n",
       "</tr>\n",
       "<tr>\n",
       "  <th>x1</th> <td>    0.1022</td> <td> 3.93e-06</td> <td>  2.6e+04</td> <td> 0.000</td> <td>    0.102</td> <td>    0.102</td>\n",
       "</tr>\n",
       "</table>\n",
       "<table class=\"simpletable\">\n",
       "<tr>\n",
       "  <th>Omnibus:</th>       <td>42062.631</td> <th>  Durbin-Watson:     </th> <td>   2.001</td> \n",
       "</tr>\n",
       "<tr>\n",
       "  <th>Prob(Omnibus):</th>  <td> 0.000</td>   <th>  Jarque-Bera (JB):  </th> <td>50477.179</td>\n",
       "</tr>\n",
       "<tr>\n",
       "  <th>Skew:</th>           <td> 0.441</td>   <th>  Prob(JB):          </th> <td>    0.00</td> \n",
       "</tr>\n",
       "<tr>\n",
       "  <th>Kurtosis:</th>       <td> 3.553</td>   <th>  Cond. No.          </th> <td>    1.00</td> \n",
       "</tr>\n",
       "</table><br/><br/>Notes:<br/>[1] R² is computed without centering (uncentered) since the model does not contain a constant.<br/>[2] Standard Errors assume that the covariance matrix of the errors is correctly specified."
      ],
      "text/latex": [
       "\\begin{center}\n",
       "\\begin{tabular}{lclc}\n",
       "\\toprule\n",
       "\\textbf{Dep. Variable:}    & FloodProbability & \\textbf{  R-squared (uncentered):}      &     0.998   \\\\\n",
       "\\textbf{Model:}            &       OLS        & \\textbf{  Adj. R-squared (uncentered):} &     0.998   \\\\\n",
       "\\textbf{Method:}           &  Least Squares   & \\textbf{  F-statistic:       }          & 6.773e+08   \\\\\n",
       "\\textbf{Date:}             & Wed, 05 Feb 2025 & \\textbf{  Prob (F-statistic):}          &     0.00    \\\\\n",
       "\\textbf{Time:}             &     13:45:40     & \\textbf{  Log-Likelihood:    }          & 2.7550e+06  \\\\\n",
       "\\textbf{No. Observations:} &     1117957      & \\textbf{  AIC:               }          & -5.510e+06  \\\\\n",
       "\\textbf{Df Residuals:}     &     1117956      & \\textbf{  BIC:               }          & -5.510e+06  \\\\\n",
       "\\textbf{Df Model:}         &           1      & \\textbf{                     }          &             \\\\\n",
       "\\textbf{Covariance Type:}  &    nonrobust     & \\textbf{                     }          &             \\\\\n",
       "\\bottomrule\n",
       "\\end{tabular}\n",
       "\\begin{tabular}{lcccccc}\n",
       "            & \\textbf{coef} & \\textbf{std err} & \\textbf{t} & \\textbf{P$> |$t$|$} & \\textbf{[0.025} & \\textbf{0.975]}  \\\\\n",
       "\\midrule\n",
       "\\textbf{x1} &       0.1022  &     3.93e-06     &   2.6e+04  &         0.000        &        0.102    &        0.102     \\\\\n",
       "\\bottomrule\n",
       "\\end{tabular}\n",
       "\\begin{tabular}{lclc}\n",
       "\\textbf{Omnibus:}       & 42062.631 & \\textbf{  Durbin-Watson:     } &     2.001  \\\\\n",
       "\\textbf{Prob(Omnibus):} &    0.000  & \\textbf{  Jarque-Bera (JB):  } & 50477.179  \\\\\n",
       "\\textbf{Skew:}          &    0.441  & \\textbf{  Prob(JB):          } &      0.00  \\\\\n",
       "\\textbf{Kurtosis:}      &    3.553  & \\textbf{  Cond. No.          } &      1.00  \\\\\n",
       "\\bottomrule\n",
       "\\end{tabular}\n",
       "%\\caption{OLS Regression Results}\n",
       "\\end{center}\n",
       "\n",
       "Notes: \\newline\n",
       " [1] R² is computed without centering (uncentered) since the model does not contain a constant. \\newline\n",
       " [2] Standard Errors assume that the covariance matrix of the errors is correctly specified."
      ],
      "text/plain": [
       "<class 'statsmodels.iolib.summary.Summary'>\n",
       "\"\"\"\n",
       "                                 OLS Regression Results                                \n",
       "=======================================================================================\n",
       "Dep. Variable:       FloodProbability   R-squared (uncentered):                   0.998\n",
       "Model:                            OLS   Adj. R-squared (uncentered):              0.998\n",
       "Method:                 Least Squares   F-statistic:                          6.773e+08\n",
       "Date:                Wed, 05 Feb 2025   Prob (F-statistic):                        0.00\n",
       "Time:                        13:45:40   Log-Likelihood:                      2.7550e+06\n",
       "No. Observations:             1117957   AIC:                                 -5.510e+06\n",
       "Df Residuals:                 1117956   BIC:                                 -5.510e+06\n",
       "Df Model:                           1                                                  \n",
       "Covariance Type:            nonrobust                                                  \n",
       "==============================================================================\n",
       "                 coef    std err          t      P>|t|      [0.025      0.975]\n",
       "------------------------------------------------------------------------------\n",
       "x1             0.1022   3.93e-06    2.6e+04      0.000       0.102       0.102\n",
       "==============================================================================\n",
       "Omnibus:                    42062.631   Durbin-Watson:                   2.001\n",
       "Prob(Omnibus):                  0.000   Jarque-Bera (JB):            50477.179\n",
       "Skew:                           0.441   Prob(JB):                         0.00\n",
       "Kurtosis:                       3.553   Cond. No.                         1.00\n",
       "==============================================================================\n",
       "\n",
       "Notes:\n",
       "[1] R² is computed without centering (uncentered) since the model does not contain a constant.\n",
       "[2] Standard Errors assume that the covariance matrix of the errors is correctly specified.\n",
       "\"\"\""
      ]
     },
     "execution_count": 4,
     "metadata": {},
     "output_type": "execute_result"
    }
   ],
   "source": [
    "# Mean prediction\n",
    "\n",
    "model = sm.OLS(train['FloodProbability'], train.drop(columns='FloodProbability').mean(axis=1)).fit()\n",
    "model.summary()"
   ]
  },
  {
   "cell_type": "code",
   "execution_count": 5,
   "metadata": {},
   "outputs": [
    {
     "data": {
      "text/plain": [
       "0.8372797463161574"
      ]
     },
     "execution_count": 5,
     "metadata": {},
     "output_type": "execute_result"
    }
   ],
   "source": [
    "r2_score(train['FloodProbability'], train.drop(columns='FloodProbability').mean(axis=1) * 0.1022)"
   ]
  }
 ],
 "metadata": {
  "kernelspec": {
   "display_name": "tradingClub",
   "language": "python",
   "name": "python3"
  },
  "language_info": {
   "codemirror_mode": {
    "name": "ipython",
    "version": 3
   },
   "file_extension": ".py",
   "mimetype": "text/x-python",
   "name": "python",
   "nbconvert_exporter": "python",
   "pygments_lexer": "ipython3",
   "version": "3.12.5"
  }
 },
 "nbformat": 4,
 "nbformat_minor": 2
}
